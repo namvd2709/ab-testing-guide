{
 "cells": [
  {
   "cell_type": "code",
   "execution_count": 1,
   "metadata": {},
   "outputs": [],
   "source": [
    "from helper import *\n",
    "import numpy as np\n",
    "import pandas as pd"
   ]
  },
  {
   "cell_type": "code",
   "execution_count": 2,
   "metadata": {},
   "outputs": [],
   "source": [
    "xx = np.arange(-6, 6, 0.001)\n",
    "a = norm.pdf(xx)\n",
    "b = norm.pdf(xx, loc=2)"
   ]
  },
  {
   "cell_type": "markdown",
   "metadata": {},
   "source": [
    "### Binomial distribution"
   ]
  },
  {
   "cell_type": "code",
   "execution_count": 3,
   "metadata": {},
   "outputs": [
    {
     "name": "stdout",
     "output_type": "stream",
     "text": [
      "       clicked   count     ctr\n",
      "group                         \n",
      "A        210.0  2000.0  0.1050\n",
      "B        249.0  2000.0  0.1245\n"
     ]
    }
   ],
   "source": [
    "bcr = 0.1\n",
    "lift = 0.02\n",
    "size = 4000\n",
    "split = 0.5\n",
    "\n",
    "df, summary = generate_data_equal_size(size, bcr, lift)"
   ]
  },
  {
   "cell_type": "markdown",
   "metadata": {},
   "source": [
    "$$X_A \\sim B(n_A, p_A)$$ <br/> \n",
    "$$X_B \\sim B(n_B, p_B)$$ <br/>\n",
    "<div align=\"center\">where $n_A, p_A, n_B, p_B$ are the observed sample size and CTR of group A and B</div><br/>\n",
    "<div align=\"center\">$X_A, X_B$ are the number of clicks</div>"
   ]
  },
  {
   "cell_type": "code",
   "execution_count": 4,
   "metadata": {},
   "outputs": [
    {
     "data": {
      "image/png": "[encoded data removed]",
      "text/plain": [
       "<Figure size 576x360 with 1 Axes>"
      ]
     },
     "metadata": {
      "needs_background": "light"
     },
     "output_type": "display_data"
    }
   ],
   "source": [
    "p_A = summary.loc['A', 'ctr']\n",
    "p_B = summary.loc['B', 'ctr']\n",
    "n_A = summary.loc['A', 'count']\n",
    "n_B = summary.loc['B', 'count']\n",
    "\n",
    "plot_double_binomial(n_A, p_A, n_B, p_B)"
   ]
  },
  {
   "cell_type": "markdown",
   "metadata": {},
   "source": [
    "### Bernoulli distribution"
   ]
  },
  {
   "cell_type": "markdown",
   "metadata": {},
   "source": [
    "$$E(X) = p $$<br/>\n",
    "$$Var(X) = p(1-p)$$"
   ]
  },
  {
   "cell_type": "markdown",
   "metadata": {},
   "source": [
    "$$X_i \\sim Bernoulli(p, p*(1-p))$$ <br/>"
   ]
  },
  {
   "cell_type": "markdown",
   "metadata": {},
   "source": [
    "$$\\bar{X} \\sim N{(p, \\frac{p*(1-p)}{n})} $$"
   ]
  },
  {
   "cell_type": "code",
   "execution_count": 5,
   "metadata": {},
   "outputs": [
    {
     "name": "stderr",
     "output_type": "stream",
     "text": [
      "/Users/nam/opt/anaconda3/envs/essential/lib/python3.8/site-packages/seaborn/_decorators.py:36: FutureWarning: Pass the following variable as a keyword arg: x. From version 0.12, the only valid positional argument will be `data`, and passing other arguments without an explicit keyword will result in an error or misinterpretation.\n",
      "  warnings.warn(\n"
     ]
    },
    {
     "data": {
      "text/plain": [
       "<AxesSubplot:ylabel='count'>"
      ]
     },
     "execution_count": 5,
     "metadata": {},
     "output_type": "execute_result"
    },
    {
     "data": {
      "image/png": "[encoded data removed]",
      "text/plain": [
       "<Figure size 432x288 with 1 Axes>"
      ]
     },
     "metadata": {
      "needs_background": "light"
     },
     "output_type": "display_data"
    }
   ],
   "source": [
    "outcomes = []\n",
    "for i in range(100000):\n",
    "    p = 0.1\n",
    "    outcome = np.random.binomial(1, p)\n",
    "    outcomes.append(outcome)\n",
    "\n",
    "sns.countplot(outcomes)"
   ]
  },
  {
   "cell_type": "code",
   "execution_count": 6,
   "metadata": {},
   "outputs": [],
   "source": [
    "sample_means = []\n",
    "\n",
    "# Simulating 10000 samples\n",
    "for i in range(1000):\n",
    "    # For each sample, we simulate 100 users\n",
    "    sample = random.choices(outcomes, k=2000)\n",
    "    mean = np.mean(sample)\n",
    "    sample_means.append(mean)\n"
   ]
  },
  {
   "cell_type": "code",
   "execution_count": 7,
   "metadata": {},
   "outputs": [
    {
     "data": {
      "text/plain": [
       "(array([ 2.92682927,  6.58536585, 22.19512195, 37.56097561, 57.31707317,\n",
       "        56.82926829, 36.82926829, 14.87804878,  6.34146341,  2.43902439]),\n",
       " array([0.0795, 0.0836, 0.0877, 0.0918, 0.0959, 0.1   , 0.1041, 0.1082,\n",
       "        0.1123, 0.1164, 0.1205]),\n",
       " <BarContainer object of 10 artists>)"
      ]
     },
     "execution_count": 7,
     "metadata": {},
     "output_type": "execute_result"
    },
    {
     "data": {
      "image/png": "[encoded data removed]",
      "text/plain": [
       "<Figure size 432x288 with 1 Axes>"
      ]
     },
     "metadata": {
      "needs_background": "light"
     },
     "output_type": "display_data"
    }
   ],
   "source": [
    "fig, ax = plt.subplots()\n",
    "ax.hist(sample_means, density=True)\n",
    "\n",
    "# xx = np.linspace(0.07, 0.13)\n",
    "# sample_norm = norm.pdf(xx, p, np.sqrt(p*(1-p)/2000))\n",
    "\n",
    "# ax2 = ax.twinx()\n",
    "# sns.lineplot(xx, sample_norm, color='red', ax=ax2)"
   ]
  },
  {
   "cell_type": "code",
   "execution_count": 8,
   "metadata": {},
   "outputs": [
    {
     "name": "stderr",
     "output_type": "stream",
     "text": [
      "/Users/nam/opt/anaconda3/envs/essential/lib/python3.8/site-packages/seaborn/distributions.py:2551: FutureWarning: `distplot` is a deprecated function and will be removed in a future version. Please adapt your code to use either `displot` (a figure-level function with similar flexibility) or `histplot` (an axes-level function for histograms).\n",
      "  warnings.warn(msg, FutureWarning)\n"
     ]
    },
    {
     "data": {
      "text/plain": [
       "<AxesSubplot:ylabel='Density'>"
      ]
     },
     "execution_count": 8,
     "metadata": {},
     "output_type": "execute_result"
    },
    {
     "data": {
      "image/png": "[encoded data removed]",
      "text/plain": [
       "<Figure size 432x288 with 1 Axes>"
      ]
     },
     "metadata": {
      "needs_background": "light"
     },
     "output_type": "display_data"
    }
   ],
   "source": [
    "sample_means = (sample_means - np.mean(sample_means))/np.std(sample_means)\n",
    "sns.distplot(sample_means)"
   ]
  },
  {
   "cell_type": "code",
   "execution_count": 9,
   "metadata": {},
   "outputs": [
    {
     "name": "stdout",
     "output_type": "stream",
     "text": [
      "Statistics=0.9984225034713745, p=0.5050513744354248\n",
      "Sample looks Normal (do not reject H0)\n"
     ]
    }
   ],
   "source": [
    "from scipy.stats import shapiro\n",
    "stat, p = shapiro(sample_means)\n",
    "print('Statistics={}, p={}'.format(stat, p))\n",
    "alpha = 0.05\n",
    "if p > alpha:\n",
    "    print('Sample looks Normal (do not reject H0)')\n",
    "else:\n",
    "    print('Sample does not look Normal (reject H0)')"
   ]
  },
  {
   "cell_type": "markdown",
   "metadata": {},
   "source": [
    "$$\\mu_b$$"
   ]
  },
  {
   "cell_type": "markdown",
   "metadata": {},
   "source": [
    "### Normalize data distribution"
   ]
  },
  {
   "cell_type": "code",
   "execution_count": 10,
   "metadata": {},
   "outputs": [
    {
     "name": "stderr",
     "output_type": "stream",
     "text": [
      "/Users/nam/opt/anaconda3/envs/essential/lib/python3.8/site-packages/seaborn/_decorators.py:36: FutureWarning: Pass the following variables as keyword args: x, y. From version 0.12, the only valid positional argument will be `data`, and passing other arguments without an explicit keyword will result in an error or misinterpretation.\n",
      "  warnings.warn(\n",
      "/Users/nam/opt/anaconda3/envs/essential/lib/python3.8/site-packages/seaborn/_decorators.py:36: FutureWarning: Pass the following variables as keyword args: x, y. From version 0.12, the only valid positional argument will be `data`, and passing other arguments without an explicit keyword will result in an error or misinterpretation.\n",
      "  warnings.warn(\n"
     ]
    },
    {
     "data": {
      "text/plain": [
       "Text(0, 0.5, 'probability')"
      ]
     },
     "execution_count": 10,
     "metadata": {},
     "output_type": "execute_result"
    },
    {
     "data": {
      "image/png": "[encoded data removed]",
      "text/plain": [
       "<Figure size 432x288 with 1 Axes>"
      ]
     },
     "metadata": {
      "needs_background": "light"
     },
     "output_type": "display_data"
    }
   ],
   "source": [
    "upper = 0.17\n",
    "lower = 0.07\n",
    "fig, ax = plt.subplots()\n",
    "xx = np.linspace(lower, upper, 1000)\n",
    "    \n",
    "data_a_norm = norm.pdf(xx, p_A, np.sqrt(p_A*(1-p_A) / n_A))\n",
    "data_b_norm = norm.pdf(xx, p_B, np.sqrt(p_B*(1-p_B) / n_B))\n",
    "\n",
    "sns.lineplot(xx, data_a_norm, color='blue', ax=ax)\n",
    "sns.lineplot(xx, data_b_norm, color='red', ax=ax)\n",
    "ax.axvline(p_A, color='cyan', linestyle='--')\n",
    "ax.axvline(p_B, color='orange', linestyle='--')\n",
    "\n",
    "plt.xlabel('converted')\n",
    "plt.ylabel('probability')"
   ]
  },
  {
   "cell_type": "markdown",
   "metadata": {},
   "source": [
    "$$H_0: d = \\mu_b - \\mu_a = 0$$<br/>\n",
    "$$H_1: d = \\mu_b - \\mu_a <> 0$$"
   ]
  },
  {
   "cell_type": "markdown",
   "metadata": {},
   "source": [
    "### Mean and Variance of sum"
   ]
  },
  {
   "cell_type": "markdown",
   "metadata": {},
   "source": [
    "$$E(d)=E(B)-E(A)$$<br/>\n",
    "$$Var(d) = Var(A) + Var(B)$$"
   ]
  },
  {
   "cell_type": "markdown",
   "metadata": {},
   "source": [
    "$$E(d)=E(B)-E(A)$$<br/>\n",
    "$$Var(d) = \\frac{p_A*(1-p_A)}{N_A} + \\frac{p_B * (1-p_B)}{N_B}$$<br/>\n",
    "$$= \\frac{\\sigma_A^2}{N_A} + \\frac{\\sigma_B^2}{N_B}$$<br/>\n",
    "$$=>SE(d) = \\sqrt{(\\frac{\\sigma_A^2}{N_A} + \\frac{\\sigma_B^2}{N_B})}$$"
   ]
  },
  {
   "cell_type": "markdown",
   "metadata": {},
   "source": [
    "Here, we want the z-score of the test statistic under H1 to be at least 80%, and the z-score of the test statistic under H0 to be at least 97.5%\n",
    "Recall that the z-score under H0 = P(reject H0|H0 is true) and is denoted by the blue area above.\n",
    "The z-score under H1 = P(accept H0|H0 is false) is denoted by the green area above\n",
    "\n",
    "So, under H0, we will reject H0 5% of the time, meaning that the z-score > z-value 5% of the time.\n",
    "In order to achieve a power of 80%, we need to be able to reject H0 at least 80% of the time under H1. This means that under H1, z-score (z2) > 1.96 in 80% of the time\n",
    "\n",
    "Mathematical form:\n",
    "    P(reject H0|H0 is true) = P(z1 > z-value|H0 is true) = 0.05 = P(z-score > 1.96 | H0 is true) where z1 ~ N(m0, sigma0)\n",
    "    P(reject H0|H1 is true) = P(z2 > z-value|H1 is true) = 0.8 where z2 ~ N(m1, sigma1)\n",
    "\n",
    "Thus, in order to achieve 80% statistical power, we need z2 > threshold 80% of time, or that z2 must be to the right of z1. This is saying that every single point in the 80% confidence should have rejected H0 when we do the testing under H0 (meaning they must lie in the 5% region of H1)."
   ]
  },
  {
   "cell_type": "code",
   "execution_count": 11,
   "metadata": {},
   "outputs": [
    {
     "name": "stderr",
     "output_type": "stream",
     "text": [
      "/Users/nam/opt/anaconda3/envs/essential/lib/python3.8/site-packages/seaborn/_decorators.py:36: FutureWarning: Pass the following variables as keyword args: x, y. From version 0.12, the only valid positional argument will be `data`, and passing other arguments without an explicit keyword will result in an error or misinterpretation.\n",
      "  warnings.warn(\n",
      "/Users/nam/opt/anaconda3/envs/essential/lib/python3.8/site-packages/seaborn/_decorators.py:36: FutureWarning: Pass the following variables as keyword args: x, y. From version 0.12, the only valid positional argument will be `data`, and passing other arguments without an explicit keyword will result in an error or misinterpretation.\n",
      "  warnings.warn(\n"
     ]
    },
    {
     "data": {
      "image/png": "[encoded data removed]",
      "text/plain": [
       "<Figure size 432x288 with 2 Axes>"
      ]
     },
     "metadata": {
      "needs_background": "light"
     },
     "output_type": "display_data"
    }
   ],
   "source": [
    "plot_ab(p_A, p_B, n_A, n_B)"
   ]
  },
  {
   "cell_type": "code",
   "execution_count": 12,
   "metadata": {},
   "outputs": [],
   "source": [
    "# Under H0, which is that the conversion will have a mean of 100 and std root(1000*0.1*0.9), 5% of the time conversion will be greater than 118.<br/>\n",
    "# Under H1, which is that the conversion will have a mean of 124 and std root(1000*0.124*0.876), 71% of the time conversion will be greater than 118.<br/>\n",
    "# For 1000 samples each group "
   ]
  },
  {
   "cell_type": "code",
   "execution_count": 51,
   "metadata": {},
   "outputs": [
    {
     "name": "stdout",
     "output_type": "stream",
     "text": [
      "       clicked   count       ctr\n",
      "group                           \n",
      "A        426.0  3843.0  0.110851\n",
      "B        495.0  3843.0  0.128806\n"
     ]
    },
    {
     "data": {
      "image/png": "[encoded data removed]",
      "text/plain": [
       "<Figure size 432x288 with 2 Axes>"
      ]
     },
     "metadata": {
      "needs_background": "light"
     },
     "output_type": "display_data"
    }
   ],
   "source": [
    "def plot_ab(p_A, p_B, n_A, n_B):\n",
    "    d_0 = 0\n",
    "    d_1 = 0.02\n",
    "    p_pool = (p_A * n_A + p_B * n_B) / (n_A + n_B)\n",
    "    #SE = np.sqrt(p_A * (1-p_A) / n_A + p_B * (1-p_B) / n_B)\n",
    "    SE = np.sqrt(p_pool * (1-p_pool) * (1/n_A + 1/n_B))\n",
    "    \n",
    "    xx = np.arange(-0.1, 0.1, 0.0001)\n",
    "    fig, ax = plt.subplots()\n",
    "    data_0 = norm.pdf(xx, loc=d_0, scale=SE)\n",
    "    data_1 = norm.pdf(xx, loc=d_1, scale=SE)\n",
    "\n",
    "    sns.lineplot(xx, data_0, ax=ax)\n",
    "    line = ax.get_lines()[-1]\n",
    "    x,y = line.get_data()\n",
    "    mask = x > norm.ppf(1-0.05/2, loc=d_0, scale=SE)\n",
    "    x, y = x[mask], y[mask]\n",
    "    ax.fill_between(x, y1=y, alpha=0.5, facecolor='blue')\n",
    "\n",
    "    ax2 = ax.twinx()\n",
    "    sns.lineplot(xx, data_1, ax=ax2, color='red')\n",
    "    line = ax2.get_lines()[-1]\n",
    "    x,y = line.get_data()\n",
    "    mask = x > norm.ppf(1-0.05/2, loc=d_0, scale=SE)\n",
    "    x, y = x[mask], y[mask]\n",
    "    ax2.fill_between(x, y1=y, alpha=0.5, facecolor='darkgreen')\n",
    "    \n",
    "    x,y = line.get_data()\n",
    "    mask_2 = x > norm.ppf(1-0.8, loc=d_1, scale=SE)\n",
    "    x, y = x[mask_2], y[mask_2]\n",
    "    ax2.fill_between(x, y1=y, alpha=0.5, facecolor='lightgreen')\n",
    "    \n",
    "    calculated_power = 1 - norm.cdf(norm.ppf(1-0.05/2, loc=d_0, scale=SE), loc=d_1, scale=SE)\n",
    "    ax.annotate(f\"Power is: {round(calculated_power, 2)}\", xy=(0.1,0.88), xycoords='figure fraction')\n",
    "\n",
    "def explore_ab(bcr, lift, size, split):\n",
    "    df, summary = generate_data_equal_size(size, bcr, lift)\n",
    "    p_A = summary.loc['A', 'ctr']\n",
    "    p_B = summary.loc['B', 'ctr']\n",
    "    n_A = summary.loc['A', 'count']\n",
    "    n_B = summary.loc['B', 'count']\n",
    "    plot_ab(p_A, p_B, n_A, n_B)\n",
    "\n",
    "explore_ab(bcr, lift, 3843*2, split)"
   ]
  },
  {
   "cell_type": "code",
   "execution_count": 28,
   "metadata": {},
   "outputs": [],
   "source": [
    "def calc_sample_size(alpha, beta, p, delta):\n",
    "    \"\"\" Based on https://www.evanmiller.org/ab-testing/sample-size.html\n",
    "    Ref: https://stats.stackexchange.com/questions/357336/create-an-a-b-sample-size-calculator-using-evan-millers-post\n",
    "    Args:\n",
    "        alpha (float): How often are you willing to accept a Type I error (false positive)?\n",
    "        power (float): How often do you want to correctly detect a true positive (1-beta)?\n",
    "        p (float): Base conversion rate\n",
    "        pct_mde (float): Minimum detectable effect, relative to base conversion rate.\n",
    "\n",
    "    \"\"\"\n",
    "    t_alpha2 = norm.ppf(1.0-alpha/2)\n",
    "    t_beta = norm.ppf(1-beta)\n",
    "\n",
    "    sd1 = np.sqrt(2 * p * (1.0 - p))\n",
    "    sd2 = np.sqrt(p * (1.0 - p) + (p + delta) * (1.0 - p - delta))\n",
    "\n",
    "    return round((t_alpha2 * sd1 + t_beta * sd2) * (t_alpha2 * sd1 + t_beta * sd2) / (delta * delta))"
   ]
  },
  {
   "cell_type": "code",
   "execution_count": 30,
   "metadata": {},
   "outputs": [
    {
     "data": {
      "text/plain": [
       "3623"
      ]
     },
     "execution_count": 30,
     "metadata": {},
     "output_type": "execute_result"
    }
   ],
   "source": [
    "calc_sample_size(alpha, 0.2, bcr, lift)"
   ]
  },
  {
   "cell_type": "code",
   "execution_count": 15,
   "metadata": {},
   "outputs": [],
   "source": [
    "import warnings\n",
    "warnings.filterwarnings('ignore')\n",
    "from ipywidgets import widgets\n",
    "from ipywidgets import interact, interactive, fixed, interact_manual"
   ]
  },
  {
   "cell_type": "code",
   "execution_count": 53,
   "metadata": {},
   "outputs": [
    {
     "data": {
      "application/vnd.jupyter.widget-view+json": {
       "model_id": "57f1a7eb7591484084089af41cad4d8c",
       "version_major": 2,
       "version_minor": 0
      },
      "text/plain": [
       "interactive(children=(FloatSlider(value=0.09999999999999999, description='bcr', max=0.2, min=0.01, step=0.01),…"
      ]
     },
     "metadata": {},
     "output_type": "display_data"
    }
   ],
   "source": [
    "im = interact_manual(explore_ab, bcr=(0.01, 0.2, 0.01), lift=(0.001, 0.05, 0.001), size=(2000, 10000, 500), split=fixed(0.5))"
   ]
  },
  {
   "cell_type": "code",
   "execution_count": 44,
   "metadata": {},
   "outputs": [],
   "source": [
    "def min_sample_size(bcr, mde, power=0.8, sig_level=0.05):\n",
    "    \"\"\"Returns the minimum sample size to set up a split test\n",
    "    Arguments:\n",
    "        bcr (float): probability of success for control, sometimes\n",
    "        referred to as baseline conversion rate\n",
    "        mde (float): minimum change in measurement between control\n",
    "        group and test group if alternative hypothesis is true, sometimes\n",
    "        referred to as minimum detectable effect\n",
    "        power (float): probability of rejecting the null hypothesis when the\n",
    "        null hypothesis is false, typically 0.8\n",
    "        sig_level (float): significance level often denoted as alpha,\n",
    "        typically 0.05\n",
    "    Returns:\n",
    "        min_N: minimum sample size (float)\n",
    "    References:\n",
    "        Stanford lecture on sample sizes\n",
    "        http://statweb.stanford.edu/~susan/courses/s141/hopower.pdf\n",
    "    \"\"\"\n",
    "    # standard normal distribution to determine z-values\n",
    "    standard_norm = scs.norm(0, 1)\n",
    "\n",
    "    # find Z_beta from desired power\n",
    "    Z_beta = standard_norm.ppf(power)\n",
    "\n",
    "    # find Z_alpha\n",
    "    Z_alpha = standard_norm.ppf(1-sig_level/2)\n",
    "\n",
    "    # average of probabilities from both groups\n",
    "    pooled_prob = (bcr + bcr+mde) / 2\n",
    "\n",
    "    min_N = (2 * pooled_prob * (1 - pooled_prob) * (Z_beta + Z_alpha)**2\n",
    "             / mde**2)\n",
    "\n",
    "    return min_N"
   ]
  },
  {
   "cell_type": "code",
   "execution_count": 46,
   "metadata": {},
   "outputs": [
    {
     "data": {
      "text/plain": [
       "3842.026629963879"
      ]
     },
     "execution_count": 46,
     "metadata": {},
     "output_type": "execute_result"
    }
   ],
   "source": [
    "min_sample_size(0.1, 0.02, power=0.8, sig_level=0.05)"
   ]
  },
  {
   "cell_type": "code",
   "execution_count": 21,
   "metadata": {},
   "outputs": [
    {
     "data": {
      "text/plain": [
       "-0.025212018976218387"
      ]
     },
     "execution_count": 21,
     "metadata": {},
     "output_type": "execute_result"
    }
   ],
   "source": [
    "d_0 = 0\n",
    "d_1 = p_B - p_A\n",
    "p_pool = (p_A * n_A + p_B * n_B) / (n_A + n_B)\n",
    "SE = np.sqrt(p_pool * (1-p_pool) * (1/n_A + 1/n_B))\n",
    "\n",
    "z_power = d_1 / SE - norm.ppf(1-0.05/2)\n",
    "z_power"
   ]
  },
  {
   "cell_type": "code",
   "execution_count": 22,
   "metadata": {},
   "outputs": [
    {
     "data": {
      "text/plain": [
       "0.011017458389096887"
      ]
     },
     "execution_count": 22,
     "metadata": {},
     "output_type": "execute_result"
    }
   ],
   "source": [
    "norm.ppf(0.2, loc=d_1, scale=SE)"
   ]
  },
  {
   "cell_type": "code",
   "execution_count": 23,
   "metadata": {},
   "outputs": [
    {
     "data": {
      "text/plain": [
       "1.959963984540054"
      ]
     },
     "execution_count": 23,
     "metadata": {},
     "output_type": "execute_result"
    }
   ],
   "source": [
    "norm.ppf(1-0.05/2)"
   ]
  },
  {
   "cell_type": "code",
   "execution_count": 24,
   "metadata": {},
   "outputs": [
    {
     "data": {
      "text/plain": [
       "0.8416212335729143"
      ]
     },
     "execution_count": 24,
     "metadata": {},
     "output_type": "execute_result"
    }
   ],
   "source": [
    "norm.ppf(0.8)"
   ]
  },
  {
   "cell_type": "code",
   "execution_count": 25,
   "metadata": {},
   "outputs": [
    {
     "data": {
      "text/plain": [
       "<AxesSubplot:>"
      ]
     },
     "execution_count": 25,
     "metadata": {},
     "output_type": "execute_result"
    },
    {
     "data": {
      "image/png": "[encoded data removed]",
      "text/plain": [
       "<Figure size 432x288 with 1 Axes>"
      ]
     },
     "metadata": {
      "needs_background": "light"
     },
     "output_type": "display_data"
    }
   ],
   "source": [
    "xx = np.arange(-5, 5, 0.001)\n",
    "fig, ax = plt.subplots()\n",
    "data_0 = norm.pdf(xx, loc=0, scale=1)\n",
    "\n",
    "sns.lineplot(xx, data_0, ax=ax)\n",
    "# line = ax.get_lines()[-1]\n",
    "# x,y = line.get_data()\n",
    "# mask = x > norm.ppf(1-0.05/2, loc=d_0, scale=SE)\n",
    "# x, y = x[mask], y[mask]\n",
    "# ax.fill_between(x, y1=y, alpha=0.5, facecolor='blue')"
   ]
  },
  {
   "cell_type": "code",
   "execution_count": 26,
   "metadata": {},
   "outputs": [
    {
     "data": {
      "text/plain": [
       "1.959963984540054"
      ]
     },
     "execution_count": 26,
     "metadata": {},
     "output_type": "execute_result"
    }
   ],
   "source": [
    "norm.ppf(0.975)"
   ]
  },
  {
   "cell_type": "code",
   "execution_count": 27,
   "metadata": {},
   "outputs": [
    {
     "data": {
      "text/plain": [
       "0.9750021048517795"
      ]
     },
     "execution_count": 27,
     "metadata": {},
     "output_type": "execute_result"
    }
   ],
   "source": [
    "norm.cdf(1.96)"
   ]
  },
  {
   "cell_type": "code",
   "execution_count": null,
   "metadata": {},
   "outputs": [],
   "source": []
  }
 ],
 "metadata": {
  "kernelspec": {
   "display_name": "Python 3",
   "language": "python",
   "name": "python3"
  },
  "language_info": {
   "codemirror_mode": {
    "name": "ipython",
    "version": 3
   },
   "file_extension": ".py",
   "mimetype": "text/x-python",
   "name": "python",
   "nbconvert_exporter": "python",
   "pygments_lexer": "ipython3",
   "version": "3.8.5"
  }
 },
 "nbformat": 4,
 "nbformat_minor": 4
}
